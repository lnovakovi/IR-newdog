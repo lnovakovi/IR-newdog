{
 "cells": [
  {
   "cell_type": "code",
   "execution_count": null,
   "metadata": {},
   "outputs": [],
   "source": [
    "import duckdb\n",
    "con = duckdb.connect('robust04db')\n",
    "c = con.cursor()\n",
    "\n",
    "BM25_STANDARD_TEMPLATE = \"\"\"\n",
    "    WITH qterms AS (SELECT termid, docid, count FROM terms\n",
    "        WHERE termid IN (10575, 1285, 191)),\n",
    "        subscores AS (SELECT docs.collection_id, docs.id, len, term_tf.termid,\n",
    "        term_tf.tf, df,(log((528155-count+0.5)/(count+0.5))*((tf*(1.2+1)/\n",
    "      (tf+1.2*(1-0.75+0.75*(len/188.33)))))) AS subscore\n",
    "        FROM (SELECT termid, docid, count as tf FROM qterms) AS term_tf\n",
    "        JOIN (SELECT docid FROM qterms\n",
    "            GROUP BY docid HAVING COUNT(distinct termid) = 3)\n",
    "            AS cdocs ON term_tf.docid = cdocs.docid\n",
    "        JOIN docs ON term_tf.docid = docs.id\n",
    "        JOIN dict ON term_tf.termid = dict.termid)\n",
    "    SELECT scores.collection_id, ROUND(score, 6) FROM (SELECT collection_id, sum(subscore) AS score\n",
    "        FROM subscores GROUP BY collection_id) AS scores JOIN docs ON\n",
    "        scores.collection_id=docs.collection_id ORDER BY ROUND(score, 6) DESC, scores.collection_id ASC LIMIT 1000;\"\"\"\n",
    "c.execute(BM25_STANDARD_TEMPLATE)\n",
    "print(c.fetchall())\n",
    "\n",
    "c.close()\n",
    "con.close()\n",
    "\n",
    "#\"WITH qterms AS (SELECT termid, docid, count FROM terms WHERE termid IN (10575, 1285, 191)),       $\n",
    "#  tf, count, (log((528155-count+0.5)/(count+0.5))*((tf*(1.2+1)/\n",
    "#  (tf+1.2*(1-0.75+0.75*(len/188.33)))))) AS subscore\n",
    " # FROM (SELECT termid, docid, count AS tf FROM qterms) AS term_tf\n",
    " # JOIN (SELECT docid FROM qterms\n",
    "  #  GROUP BY docid HAVING COUNT(distinct termid) = 3)\n",
    "   # AS cdocs ON term_tf.docid = cdocs.docid\n",
    "  #JOIN docs ON term_tf.docid=docs.docid\n",
    " # JOIN dict ON term_tf.termid=dict.termid)\n",
    "#SELECT scores.docid, score FROM (SELECT docid, sum(subscore) AS score           \n",
    " # FROM subscores GROUP BY docid) AS scores JOIN docs ON\n",
    " # scores.docid=docs.docid ORDER BY score DESC;\"\n"
   ]
  }
 ],
 "metadata": {
  "kernelspec": {
   "display_name": "Python 3",
   "language": "python",
   "name": "python3"
  },
  "language_info": {
   "codemirror_mode": {
    "name": "ipython",
    "version": 3
   },
   "file_extension": ".py",
   "mimetype": "text/x-python",
   "name": "python",
   "nbconvert_exporter": "python",
   "pygments_lexer": "ipython3",
   "version": "3.6.6"
  }
 },
 "nbformat": 4,
 "nbformat_minor": 2
}
